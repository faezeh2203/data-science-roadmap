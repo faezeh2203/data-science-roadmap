{
 "cells": [
  {
   "cell_type": "code",
   "execution_count": 1,
   "id": "67676f60",
   "metadata": {},
   "outputs": [],
   "source": [
    "import numpy as np\n",
    "import time \n",
    "import random"
   ]
  },
  {
   "cell_type": "markdown",
   "id": "469145ae",
   "metadata": {},
   "source": [
    "# Merge sort"
   ]
  },
  {
   "cell_type": "code",
   "execution_count": 3,
   "id": "a87537d8",
   "metadata": {},
   "outputs": [],
   "source": [
    "def merge(left, right):\n",
    "    result = []\n",
    "    i = 0  # Pointer for the left array\n",
    "    j = 0  # Pointer for the right array\n",
    "\n",
    "    # Compare elements from both halves and add the smaller one to the result\n",
    "    while i < len(left) and j < len(right):\n",
    "        if left[i] < right[j]:\n",
    "            result.append(left[i])\n",
    "            i += 1\n",
    "        else:\n",
    "            result.append(right[j])\n",
    "            j += 1\n",
    "\n",
    "    # Add any remaining elements from the left half\n",
    "    result.extend(left[i:])\n",
    "    # Add any remaining elements from the right half\n",
    "    result.extend(right[j:])\n",
    "\n",
    "    return result"
   ]
  },
  {
   "cell_type": "code",
   "execution_count": 4,
   "id": "d4ed7a82",
   "metadata": {},
   "outputs": [],
   "source": [
    "def merge_sort(arr):\n",
    "    # Base case: if the list has 0 or 1 element, it's already sorted\n",
    "    if len(arr) <= 1:\n",
    "        return arr\n",
    "\n",
    "    # Divide the list into two halves\n",
    "    mid = len(arr) // 2\n",
    "    left_half = arr[:mid]\n",
    "    right_half = arr[mid:]\n",
    "\n",
    "    # Recursively sort the two halves\n",
    "    sorted_left = merge_sort(left_half)\n",
    "    sorted_right = merge_sort(right_half)\n",
    "\n",
    "    # Merge the sorted halves\n",
    "    return merge(sorted_left, sorted_right)"
   ]
  },
  {
   "cell_type": "code",
   "execution_count": 5,
   "id": "301b3bb8",
   "metadata": {},
   "outputs": [],
   "source": [
    "def python_version():\n",
    "    t1 = time.time()\n",
    "    Z = []\n",
    "    for i in range(10000):\n",
    "        Z.append(random.randint(0,10000))\n",
    "    merge_sort(Z)\n",
    "    t2 = time.time()\n",
    "    return t2-t1"
   ]
  },
  {
   "cell_type": "code",
   "execution_count": 6,
   "id": "76c5be41",
   "metadata": {},
   "outputs": [
    {
     "data": {
      "text/plain": [
       "0.11099076271057129"
      ]
     },
     "execution_count": 6,
     "metadata": {},
     "output_type": "execute_result"
    }
   ],
   "source": [
    "python_version()"
   ]
  },
  {
   "cell_type": "code",
   "execution_count": 7,
   "id": "2e821ba0",
   "metadata": {},
   "outputs": [],
   "source": [
    "def numpy_version():\n",
    "    t1 = time.time()\n",
    "    arr = np.random.randint(0, 10000, size=10000)\n",
    "    np.sort(arr, kind='mergesort')\n",
    "    t2 = time.time()\n",
    "    return t2 - t1"
   ]
  },
  {
   "cell_type": "code",
   "execution_count": 8,
   "id": "e475779b",
   "metadata": {},
   "outputs": [
    {
     "data": {
      "text/plain": [
       "0.029994964599609375"
      ]
     },
     "execution_count": 8,
     "metadata": {},
     "output_type": "execute_result"
    }
   ],
   "source": [
    "numpy_version()"
   ]
  }
 ],
 "metadata": {
  "kernelspec": {
   "display_name": "learning_venv",
   "language": "python",
   "name": "python3"
  },
  "language_info": {
   "codemirror_mode": {
    "name": "ipython",
    "version": 3
   },
   "file_extension": ".py",
   "mimetype": "text/x-python",
   "name": "python",
   "nbconvert_exporter": "python",
   "pygments_lexer": "ipython3",
   "version": "3.12.1"
  }
 },
 "nbformat": 4,
 "nbformat_minor": 5
}
